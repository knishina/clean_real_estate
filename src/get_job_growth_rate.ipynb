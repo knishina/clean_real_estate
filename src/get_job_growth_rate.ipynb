{
 "cells": [
  {
   "cell_type": "code",
   "execution_count": 5,
   "metadata": {},
   "outputs": [],
   "source": [
    "import pandas as pd\n",
    "from geopy.geocoders import Nominatim\n",
    "from scipy.interpolate import NearestNDInterpolator\n",
    "import os\n",
    "import folium\n",
    "from folium.plugins import HeatMap\n",
    "import numpy as np\n",
    "\n",
    "metro_path_in = '../data/job_growth_data.csv'\n",
    "metro_path_out = '../data/job_growth_data_w_lat_long.csv'\n",
    "zip_path = '../data/zipcodes.csv'"
   ]
  },
  {
   "cell_type": "code",
   "execution_count": 11,
   "metadata": {},
   "outputs": [],
   "source": [
    "# read in job growth data and get the lat and long for the metro area\n",
    "df_job_growth = pd.read_csv(metro_path_in)\n",
    "geolocator = Nominatim()\n",
    "\n",
    "lat = []\n",
    "long = []\n",
    "\n",
    "for i in range(0,len(df_job_growth)):\n",
    "    location = geolocator.geocode(df_job_growth['Metro-Area'][i] + ' South Carolina')\n",
    "    try:\n",
    "        lat.append(location.latitude)\n",
    "        long.append(location.longitude)\n",
    "    except AttributeError as err:  \n",
    "        lat.append(0)\n",
    "        long.append(0)\n",
    "        \n",
    "df_job_growth['lat'] = lat\n",
    "df_job_growth['long'] = long\n"
   ]
  },
  {
   "cell_type": "code",
   "execution_count": 12,
   "metadata": {
    "collapsed": true
   },
   "outputs": [],
   "source": [
    "# map the growth rate for metro area to each zip code\n",
    "zip_df = pd.read_csv(zip_path)\n",
    "len_df = len(zip_df)\n",
    "\n",
    "job_growth_model = NearestNDInterpolator(df_job_growth[['lat','long']], df_job_growth['job_growth_per'])\n",
    "job_growth_zip = []                                                                                    \n",
    "for i in range(0,len_df):\n",
    "    job_growth_zip.append(job_growth_model(zip_df['latitude'][i],zip_df['longitude'][i]))\n",
    "zip_df['job_growth_per']=job_growth_zip\n",
    "zip_df.to_csv(metro_path_out)"
   ]
  },
  {
   "cell_type": "code",
   "execution_count": null,
   "metadata": {},
   "outputs": [],
   "source": [
    "zip_df.keys()"
   ]
  }
 ],
 "metadata": {
  "anaconda-cloud": {},
  "kernelspec": {
   "display_name": "Python [default]",
   "language": "python",
   "name": "python3"
  },
  "language_info": {
   "codemirror_mode": {
    "name": "ipython",
    "version": 3
   },
   "file_extension": ".py",
   "mimetype": "text/x-python",
   "name": "python",
   "nbconvert_exporter": "python",
   "pygments_lexer": "ipython3",
   "version": "3.6.3"
  }
 },
 "nbformat": 4,
 "nbformat_minor": 1
}
