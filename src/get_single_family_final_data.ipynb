{
 "cells": [
  {
   "cell_type": "markdown",
   "metadata": {},
   "source": [
    "### Clean up my csv."
   ]
  },
  {
   "cell_type": "code",
   "execution_count": 1,
   "metadata": {
    "collapsed": true
   },
   "outputs": [],
   "source": [
    "import pandas as pd\n",
    "import numpy as np"
   ]
  },
  {
   "cell_type": "code",
   "execution_count": 2,
   "metadata": {},
   "outputs": [
    {
     "data": {
      "text/html": [
       "<div>\n",
       "<style>\n",
       "    .dataframe thead tr:only-child th {\n",
       "        text-align: right;\n",
       "    }\n",
       "\n",
       "    .dataframe thead th {\n",
       "        text-align: left;\n",
       "    }\n",
       "\n",
       "    .dataframe tbody tr th {\n",
       "        vertical-align: top;\n",
       "    }\n",
       "</style>\n",
       "<table border=\"1\" class=\"dataframe\">\n",
       "  <thead>\n",
       "    <tr style=\"text-align: right;\">\n",
       "      <th></th>\n",
       "      <th>Unnamed: 0</th>\n",
       "      <th>Unnamed: 0.1</th>\n",
       "      <th>Cost of Single Family Home</th>\n",
       "      <th>Zip Code</th>\n",
       "      <th>Rental Prices</th>\n",
       "      <th>Rental Value 2016</th>\n",
       "    </tr>\n",
       "  </thead>\n",
       "  <tbody>\n",
       "    <tr>\n",
       "      <th>0</th>\n",
       "      <td>0</td>\n",
       "      <td>0</td>\n",
       "      <td>208300.0</td>\n",
       "      <td>29001</td>\n",
       "      <td>0.0</td>\n",
       "      <td>482</td>\n",
       "    </tr>\n",
       "    <tr>\n",
       "      <th>1</th>\n",
       "      <td>1</td>\n",
       "      <td>1</td>\n",
       "      <td>208300.0</td>\n",
       "      <td>29003</td>\n",
       "      <td>0.0</td>\n",
       "      <td>719</td>\n",
       "    </tr>\n",
       "    <tr>\n",
       "      <th>2</th>\n",
       "      <td>2</td>\n",
       "      <td>2</td>\n",
       "      <td>80700.0</td>\n",
       "      <td>29009</td>\n",
       "      <td>0.0</td>\n",
       "      <td>705</td>\n",
       "    </tr>\n",
       "    <tr>\n",
       "      <th>3</th>\n",
       "      <td>3</td>\n",
       "      <td>3</td>\n",
       "      <td>208300.0</td>\n",
       "      <td>29010</td>\n",
       "      <td>0.0</td>\n",
       "      <td>694</td>\n",
       "    </tr>\n",
       "    <tr>\n",
       "      <th>4</th>\n",
       "      <td>4</td>\n",
       "      <td>4</td>\n",
       "      <td>208300.0</td>\n",
       "      <td>29014</td>\n",
       "      <td>0.0</td>\n",
       "      <td>594</td>\n",
       "    </tr>\n",
       "  </tbody>\n",
       "</table>\n",
       "</div>"
      ],
      "text/plain": [
       "   Unnamed: 0  Unnamed: 0.1  Cost of Single Family Home  Zip Code  \\\n",
       "0           0             0                    208300.0     29001   \n",
       "1           1             1                    208300.0     29003   \n",
       "2           2             2                     80700.0     29009   \n",
       "3           3             3                    208300.0     29010   \n",
       "4           4             4                    208300.0     29014   \n",
       "\n",
       "   Rental Prices Rental Value 2016  \n",
       "0            0.0               482  \n",
       "1            0.0               719  \n",
       "2            0.0               705  \n",
       "3            0.0               694  \n",
       "4            0.0               594  "
      ]
     },
     "execution_count": 2,
     "metadata": {},
     "output_type": "execute_result"
    }
   ],
   "source": [
    "datafile = \"../data/Single_Family_Rental.csv\"\n",
    "df = pd.read_csv(datafile)\n",
    "df.head()"
   ]
  },
  {
   "cell_type": "code",
   "execution_count": 3,
   "metadata": {
    "scrolled": true
   },
   "outputs": [
    {
     "data": {
      "text/html": [
       "<div>\n",
       "<style>\n",
       "    .dataframe thead tr:only-child th {\n",
       "        text-align: right;\n",
       "    }\n",
       "\n",
       "    .dataframe thead th {\n",
       "        text-align: left;\n",
       "    }\n",
       "\n",
       "    .dataframe tbody tr th {\n",
       "        vertical-align: top;\n",
       "    }\n",
       "</style>\n",
       "<table border=\"1\" class=\"dataframe\">\n",
       "  <thead>\n",
       "    <tr style=\"text-align: right;\">\n",
       "      <th></th>\n",
       "      <th>Cost of Single Family Home</th>\n",
       "      <th>Zip Code</th>\n",
       "      <th>Rental Value 2016</th>\n",
       "    </tr>\n",
       "  </thead>\n",
       "  <tbody>\n",
       "    <tr>\n",
       "      <th>0</th>\n",
       "      <td>208300</td>\n",
       "      <td>29001</td>\n",
       "      <td>482</td>\n",
       "    </tr>\n",
       "    <tr>\n",
       "      <th>1</th>\n",
       "      <td>208300</td>\n",
       "      <td>29003</td>\n",
       "      <td>719</td>\n",
       "    </tr>\n",
       "    <tr>\n",
       "      <th>2</th>\n",
       "      <td>80700</td>\n",
       "      <td>29009</td>\n",
       "      <td>705</td>\n",
       "    </tr>\n",
       "    <tr>\n",
       "      <th>3</th>\n",
       "      <td>208300</td>\n",
       "      <td>29010</td>\n",
       "      <td>694</td>\n",
       "    </tr>\n",
       "    <tr>\n",
       "      <th>4</th>\n",
       "      <td>208300</td>\n",
       "      <td>29014</td>\n",
       "      <td>594</td>\n",
       "    </tr>\n",
       "  </tbody>\n",
       "</table>\n",
       "</div>"
      ],
      "text/plain": [
       "   Cost of Single Family Home  Zip Code  Rental Value 2016\n",
       "0                      208300     29001                482\n",
       "1                      208300     29003                719\n",
       "2                       80700     29009                705\n",
       "3                      208300     29010                694\n",
       "4                      208300     29014                594"
      ]
     },
     "execution_count": 3,
     "metadata": {},
     "output_type": "execute_result"
    }
   ],
   "source": [
    "df = df[[\"Cost of Single Family Home\", \"Zip Code\", \"Rental Value 2016\"]]\n",
    "df[\"Cost of Single Family Home\"] = df[\"Cost of Single Family Home\"].astype(int)\n",
    "df[\"Rental Value 2016\"] = df[\"Rental Value 2016\"].str.replace(\",\", \"\")\n",
    "df[\"Rental Value 2016\"] = df[\"Rental Value 2016\"].astype(int)\n",
    "df.head()"
   ]
  },
  {
   "cell_type": "code",
   "execution_count": 4,
   "metadata": {
    "collapsed": true
   },
   "outputs": [],
   "source": [
    "ratio = []\n",
    "for x in range(len(df[\"Zip Code\"])):\n",
    "    if df[\"Cost of Single Family Home\"][x] != 0:\n",
    "        ratio1 = df[\"Rental Value 2016\"][x]/df[\"Cost of Single Family Home\"][x]\n",
    "        ratio.append(ratio1)\n",
    "    else:\n",
    "        ratio.append(0)"
   ]
  },
  {
   "cell_type": "code",
   "execution_count": 5,
   "metadata": {
    "scrolled": true
   },
   "outputs": [
    {
     "data": {
      "text/html": [
       "<div>\n",
       "<style>\n",
       "    .dataframe thead tr:only-child th {\n",
       "        text-align: right;\n",
       "    }\n",
       "\n",
       "    .dataframe thead th {\n",
       "        text-align: left;\n",
       "    }\n",
       "\n",
       "    .dataframe tbody tr th {\n",
       "        vertical-align: top;\n",
       "    }\n",
       "</style>\n",
       "<table border=\"1\" class=\"dataframe\">\n",
       "  <thead>\n",
       "    <tr style=\"text-align: right;\">\n",
       "      <th></th>\n",
       "      <th>Cost of Single Family Home</th>\n",
       "      <th>Zip</th>\n",
       "      <th>Rental Value 2016</th>\n",
       "      <th>Ratio</th>\n",
       "    </tr>\n",
       "  </thead>\n",
       "  <tbody>\n",
       "    <tr>\n",
       "      <th>0</th>\n",
       "      <td>208300</td>\n",
       "      <td>29001</td>\n",
       "      <td>482</td>\n",
       "      <td>0.002314</td>\n",
       "    </tr>\n",
       "    <tr>\n",
       "      <th>1</th>\n",
       "      <td>208300</td>\n",
       "      <td>29003</td>\n",
       "      <td>719</td>\n",
       "      <td>0.003452</td>\n",
       "    </tr>\n",
       "    <tr>\n",
       "      <th>2</th>\n",
       "      <td>80700</td>\n",
       "      <td>29009</td>\n",
       "      <td>705</td>\n",
       "      <td>0.008736</td>\n",
       "    </tr>\n",
       "    <tr>\n",
       "      <th>3</th>\n",
       "      <td>208300</td>\n",
       "      <td>29010</td>\n",
       "      <td>694</td>\n",
       "      <td>0.003332</td>\n",
       "    </tr>\n",
       "    <tr>\n",
       "      <th>4</th>\n",
       "      <td>208300</td>\n",
       "      <td>29014</td>\n",
       "      <td>594</td>\n",
       "      <td>0.002852</td>\n",
       "    </tr>\n",
       "  </tbody>\n",
       "</table>\n",
       "</div>"
      ],
      "text/plain": [
       "   Cost of Single Family Home    Zip  Rental Value 2016     Ratio\n",
       "0                      208300  29001                482  0.002314\n",
       "1                      208300  29003                719  0.003452\n",
       "2                       80700  29009                705  0.008736\n",
       "3                      208300  29010                694  0.003332\n",
       "4                      208300  29014                594  0.002852"
      ]
     },
     "execution_count": 5,
     "metadata": {},
     "output_type": "execute_result"
    }
   ],
   "source": [
    "df[\"Ratio\"] = ratio\n",
    "df = df.rename(columns={\"Zip Code\": \"Zip\"})\n",
    "df.head()"
   ]
  },
  {
   "cell_type": "code",
   "execution_count": 6,
   "metadata": {
    "collapsed": true
   },
   "outputs": [],
   "source": [
    "# normalize to around 1.  multiply by 242.\n",
    "normalized_ratio = []\n",
    "for x in range(len(df[\"Zip\"])):\n",
    "    norm = df[\"Ratio\"][x] * 242\n",
    "    normalized_ratio.append(norm)"
   ]
  },
  {
   "cell_type": "code",
   "execution_count": 7,
   "metadata": {},
   "outputs": [
    {
     "data": {
      "text/html": [
       "<div>\n",
       "<style>\n",
       "    .dataframe thead tr:only-child th {\n",
       "        text-align: right;\n",
       "    }\n",
       "\n",
       "    .dataframe thead th {\n",
       "        text-align: left;\n",
       "    }\n",
       "\n",
       "    .dataframe tbody tr th {\n",
       "        vertical-align: top;\n",
       "    }\n",
       "</style>\n",
       "<table border=\"1\" class=\"dataframe\">\n",
       "  <thead>\n",
       "    <tr style=\"text-align: right;\">\n",
       "      <th></th>\n",
       "      <th>Cost of Single Family Home</th>\n",
       "      <th>Zip</th>\n",
       "      <th>Rental Value 2016</th>\n",
       "      <th>Ratio</th>\n",
       "      <th>Normalized Ratio</th>\n",
       "    </tr>\n",
       "  </thead>\n",
       "  <tbody>\n",
       "    <tr>\n",
       "      <th>0</th>\n",
       "      <td>208300</td>\n",
       "      <td>29001</td>\n",
       "      <td>482</td>\n",
       "      <td>0.002314</td>\n",
       "      <td>0.559981</td>\n",
       "    </tr>\n",
       "    <tr>\n",
       "      <th>1</th>\n",
       "      <td>208300</td>\n",
       "      <td>29003</td>\n",
       "      <td>719</td>\n",
       "      <td>0.003452</td>\n",
       "      <td>0.835324</td>\n",
       "    </tr>\n",
       "    <tr>\n",
       "      <th>2</th>\n",
       "      <td>80700</td>\n",
       "      <td>29009</td>\n",
       "      <td>705</td>\n",
       "      <td>0.008736</td>\n",
       "      <td>2.114126</td>\n",
       "    </tr>\n",
       "    <tr>\n",
       "      <th>3</th>\n",
       "      <td>208300</td>\n",
       "      <td>29010</td>\n",
       "      <td>694</td>\n",
       "      <td>0.003332</td>\n",
       "      <td>0.806279</td>\n",
       "    </tr>\n",
       "    <tr>\n",
       "      <th>4</th>\n",
       "      <td>208300</td>\n",
       "      <td>29014</td>\n",
       "      <td>594</td>\n",
       "      <td>0.002852</td>\n",
       "      <td>0.690101</td>\n",
       "    </tr>\n",
       "  </tbody>\n",
       "</table>\n",
       "</div>"
      ],
      "text/plain": [
       "   Cost of Single Family Home    Zip  Rental Value 2016     Ratio  \\\n",
       "0                      208300  29001                482  0.002314   \n",
       "1                      208300  29003                719  0.003452   \n",
       "2                       80700  29009                705  0.008736   \n",
       "3                      208300  29010                694  0.003332   \n",
       "4                      208300  29014                594  0.002852   \n",
       "\n",
       "   Normalized Ratio  \n",
       "0          0.559981  \n",
       "1          0.835324  \n",
       "2          2.114126  \n",
       "3          0.806279  \n",
       "4          0.690101  "
      ]
     },
     "execution_count": 7,
     "metadata": {},
     "output_type": "execute_result"
    }
   ],
   "source": [
    "df[\"Normalized Ratio\"] = normalized_ratio\n",
    "df.to_csv(\"../data/final_property_data.csv\")\n",
    "df.head()"
   ]
  }
 ],
 "metadata": {
  "kernelspec": {
   "display_name": "Python 3",
   "language": "python",
   "name": "python3"
  },
  "language_info": {
   "codemirror_mode": {
    "name": "ipython",
    "version": 3
   },
   "file_extension": ".py",
   "mimetype": "text/x-python",
   "name": "python",
   "nbconvert_exporter": "python",
   "pygments_lexer": "ipython3",
   "version": "3.6.3"
  }
 },
 "nbformat": 4,
 "nbformat_minor": 2
}
