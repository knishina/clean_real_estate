{
 "cells": [
  {
   "cell_type": "code",
   "execution_count": 13,
   "metadata": {
    "collapsed": true
   },
   "outputs": [],
   "source": [
    "import pandas as pd\n",
    "#creat a column of the sum of normalize columns.  Each column has equal weight\n",
    "def create_summary_metric(columns_to_include,df_in):\n",
    "    nom_col = []\n",
    "    \n",
    "    df_in['Total Crimes'] = df_in['Total Crimes']*-1#invert crime coordinate from some the sum makes since\n",
    "    #create a new column with normalized values\n",
    "    for i in columns_to_include:\n",
    "        df_in[i+\"_nom\"] = round(df_in[i]/abs(df_in[i].mean()),2 )\n",
    "        nom_col.append(i+\"_nom\")  \n",
    "    df_in['summary_metric'] = df_in[nom_col].sum(axis=1)\n",
    "    return df_in"
   ]
  },
  {
   "cell_type": "code",
   "execution_count": 14,
   "metadata": {
    "collapsed": true
   },
   "outputs": [],
   "source": [
    "data_in_path = '../data/final_investment_criteria.csv'\n",
    "data_out_path = '../data/final_investment_criteria_out.csv' \n",
    "\n",
    "df = pd.read_csv(data_in_path)\n"
   ]
  },
  {
   "cell_type": "code",
   "execution_count": 15,
   "metadata": {},
   "outputs": [
    {
     "data": {
      "text/plain": [
       "Index(['zip', 'latitude', 'longitude', 'Cost of Single Family Home', 'Rent',\n",
       "       'Normalized Ratio', 'School Rating', 'Total Crimes', 'job_growth_per'],\n",
       "      dtype='object')"
      ]
     },
     "execution_count": 15,
     "metadata": {},
     "output_type": "execute_result"
    }
   ],
   "source": [
    "df.keys()"
   ]
  },
  {
   "cell_type": "code",
   "execution_count": 16,
   "metadata": {
    "collapsed": true
   },
   "outputs": [],
   "source": [
    "summary_columns = ['job_growth_per','Normalized Ratio','Total Crimes','School Rating']\n",
    "\n",
    "df_out = create_summary_metric(summary_columns,df)\n",
    "\n",
    "df_out.to_csv(data_in_path)\n"
   ]
  },
  {
   "cell_type": "code",
   "execution_count": null,
   "metadata": {
    "collapsed": true
   },
   "outputs": [],
   "source": []
  }
 ],
 "metadata": {
  "anaconda-cloud": {},
  "kernelspec": {
   "display_name": "Python 3",
   "language": "python",
   "name": "python3"
  },
  "language_info": {
   "codemirror_mode": {
    "name": "ipython",
    "version": 3
   },
   "file_extension": ".py",
   "mimetype": "text/x-python",
   "name": "python",
   "nbconvert_exporter": "python",
   "pygments_lexer": "ipython3",
   "version": "3.6.3"
  }
 },
 "nbformat": 4,
 "nbformat_minor": 2
}
